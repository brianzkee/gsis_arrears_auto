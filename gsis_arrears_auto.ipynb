{
  "nbformat": 4,
  "nbformat_minor": 0,
  "metadata": {
    "colab": {
      "provenance": [],
      "mount_file_id": "1pOZKvM3vhahOzGsh71jRHSBXBuBFc26S",
      "authorship_tag": "ABX9TyOu5ZXuTqP2kd9A6UWiKr+m",
      "include_colab_link": true
    },
    "kernelspec": {
      "name": "python3",
      "display_name": "Python 3"
    },
    "language_info": {
      "name": "python"
    }
  },
  "cells": [
    {
      "cell_type": "markdown",
      "metadata": {
        "id": "view-in-github",
        "colab_type": "text"
      },
      "source": [
        "<a href=\"https://colab.research.google.com/github/brianzkee/gsis_arrears_auto/blob/main/gsis_arrears_auto.ipynb\" target=\"_parent\"><img src=\"https://colab.research.google.com/assets/colab-badge.svg\" alt=\"Open In Colab\"/></a>"
      ]
    },
    {
      "cell_type": "code",
      "source": [
        "from google.colab import drive\n",
        "drive.mount('/content/drive')"
      ],
      "metadata": {
        "colab": {
          "base_uri": "https://localhost:8080/"
        },
        "id": "cT9AYazWnByS",
        "outputId": "b1fa7e67-c99c-42e9-ddf3-374024145b7a"
      },
      "execution_count": null,
      "outputs": [
        {
          "output_type": "stream",
          "name": "stdout",
          "text": [
            "Drive already mounted at /content/drive; to attempt to forcibly remount, call drive.mount(\"/content/drive\", force_remount=True).\n"
          ]
        }
      ]
    },
    {
      "cell_type": "code",
      "source": [
        "import pandas as pd\n",
        "from openpyxl import load_workbook\n",
        "from openpyxl.utils.dataframe import dataframe_to_rows\n",
        "\n",
        "# List of tuples with the Lastname and Firstname pairs to filter, add the names in this pattern\n",
        "filter_list = [\n",
        "    ('Lastname1', 'Firstname1'),\n",
        "    ('Lastname2', 'Firstname2')\n",
        "]\n",
        "\n",
        "# Load the CSV file to examine its contents, change the path to your files\n",
        "file_path = '/content/drive/MyDrive/Colab Notebooks/GSIS Arrears Automation/upr_202408_DEPED  ELEM CATB 1706 M-Z.csv'\n",
        "template_path = '/content/drive/MyDrive/Colab Notebooks/GSIS Arrears Automation/template.xlsx'\n",
        "output_base_path = '/content/drive/MyDrive/Colab Notebooks/GSIS Arrears Automation/computed_output_sheets_batch'  # Base path for output files\n",
        "\n",
        "# Read the CSV file into a DataFrame\n",
        "df = pd.read_csv(file_path)\n",
        "\n",
        "# Define the columns we are interested in\n",
        "columns_to_select = [\n",
        "    'BPNO', 'Lastname', 'Firstname', 'MI', 'Prefix', 'Appellation', 'Birth Date',\n",
        "    'CRN', 'Period Start', 'Monthly Salary', 'Unpaid PS', 'Unpaid GS', 'Unpaid EC'\n",
        "]\n",
        "\n",
        "# Skip initial rows and rename the columns to match desired headers\n",
        "df_clean = pd.read_csv(file_path, usecols=[1, 2, 3, 4, 5, 6, 7, 8, 10, 12, 19, 20, 21])\n",
        "\n",
        "# Rename the columns to desired names\n",
        "df_clean.columns = columns_to_select\n",
        "\n",
        "# Reorder the columns manually based on your desired order\n",
        "desired_order = [\n",
        "    'BPNO', 'Lastname', 'Firstname', 'MI', 'Prefix', 'Appellation', 'Birth Date',\n",
        "    'CRN', 'Monthly Salary', 'Period Start','Unpaid PS', 'Unpaid GS', 'Unpaid EC'\n",
        "]\n",
        "df_clean = df_clean[desired_order]\n",
        "\n",
        "# Convert the list into a DataFrame for easier filtering\n",
        "filter_df = pd.DataFrame(filter_list, columns=['Lastname', 'Firstname'])\n",
        "\n",
        "# Filter the dataframe based on the 'Lastname' and 'Firstname' columns\n",
        "df_filtered = pd.merge(df_clean, filter_df, on=['Lastname', 'Firstname'])\n",
        "\n",
        "# Define the columns to check for discrepancies\n",
        "columns_to_check = ['Unpaid PS', 'Unpaid GS', 'Unpaid EC']\n",
        "\n",
        "# List to store indices of rows to be deleted\n",
        "rows_to_drop = []\n",
        "\n",
        "# Iterate through the dataframe, starting from the second row\n",
        "for i in range(1, len(df_filtered)):\n",
        "    if (df_filtered.loc[i, 'Unpaid PS'] < 0) or (df_filtered.loc[i, 'Unpaid GS'] < 0) or (df_filtered.loc[i, 'Unpaid EC'] < 0):\n",
        "        # Add the values from the previous row to the current row\n",
        "        for col in columns_to_check:\n",
        "            df_filtered.loc[i, col] += df_filtered.loc[i - 1, col]\n",
        "        # Mark the previous row for deletion\n",
        "        rows_to_drop.append(i - 1)\n",
        "\n",
        "# Drop the marked rows\n",
        "df_filtered.drop(rows_to_drop, inplace=True)\n",
        "df_filtered.reset_index(drop=True, inplace=True)\n",
        "\n",
        "# Rename df_filtered to df_computed for readability\n",
        "df_computed = df_filtered.copy()\n",
        "\n",
        "# Create a separate column for grouping purposes (Period Start in datetime format) without modifying the original\n",
        "df_computed['Period Start Group'] = pd.to_datetime(df_computed['Period Start'], errors='coerce')\n",
        "\n",
        "# Load the template workbook\n",
        "wb = None  # We will dynamically create workbooks\n",
        "worksheet_count = 0\n",
        "batch_number = 1\n",
        "\n",
        "# Group by the new 'Period Start Group' column (using Year and Month) without modifying the original 'Period Start'\n",
        "for (year, month), group in df_computed.groupby([df_computed['Period Start Group'].dt.year, df_computed['Period Start Group'].dt.month]):\n",
        "    # Initialize a new workbook if none exists or if we've reached the 36 worksheet limit\n",
        "    if wb is None or worksheet_count >= 36:\n",
        "        if wb is not None:\n",
        "            # Save the previous workbook before creating a new one\n",
        "            output_path = f\"{output_base_path}{batch_number}.xlsx\"\n",
        "            # Remove the sample sheet (optional, if you want to keep it, skip this step)\n",
        "            if 'year-month' in wb.sheetnames:\n",
        "              wb.remove(wb['year-month'])\n",
        "\n",
        "            wb.save(output_path)\n",
        "            print(f\"Batch {batch_number} saved to {output_path}\")\n",
        "            batch_number += 1\n",
        "        # Start a new workbook\n",
        "        wb = load_workbook(template_path)\n",
        "        worksheet_count = 0\n",
        "\n",
        "    df_name = f\"{year}{month:02d}\"  # Format the dataframe name as 'yyyy-mm'\n",
        "\n",
        "    # Duplicate the template worksheet\n",
        "    ws_template = wb['year-month']  # Assuming 'year-month' is the name of the template worksheet\n",
        "    new_sheet = wb.copy_worksheet(ws_template)\n",
        "    new_sheet.title = df_name\n",
        "\n",
        "    # Set Due Month value in cell B3\n",
        "    new_sheet['B3'] = f\"{month:02d}/{year}\"\n",
        "\n",
        "    # Drop the 'Period Start Group' column from the group before writing to Excel\n",
        "    group = group.drop(columns=['Period Start Group'])\n",
        "\n",
        "    # Remove column headers from the dataframe and start inserting from row 6\n",
        "    for r_idx, row in enumerate(dataframe_to_rows(group, index=False, header=False), start=6):\n",
        "        for c_idx, value in enumerate(row, start=1):\n",
        "            new_sheet.cell(row=r_idx, column=c_idx, value=value)\n",
        "\n",
        "    worksheet_count += 1\n",
        "\n",
        "# Save the last workbook (if it has any worksheets)\n",
        "if wb is not None:\n",
        "    output_path = f\"{output_base_path}{batch_number}.xlsx\"\n",
        "\n",
        "    # Remove the sample sheet (optional, if you want to keep it, skip this step)\n",
        "    if 'year-month' in wb.sheetnames:\n",
        "      wb.remove(wb['year-month'])\n",
        "\n",
        "    wb.save(output_path)\n",
        "    print(f\"Batch {batch_number} saved to {output_path}\")\n",
        "\n",
        "print(\"Data inserted into new worksheets and saved.\")\n"
      ],
      "metadata": {
        "colab": {
          "base_uri": "https://localhost:8080/"
        },
        "id": "lMloDFGXm-Pg",
        "outputId": "b9b5e67b-4a6c-49a4-f67f-e036104fcdf8"
      },
      "execution_count": null,
      "outputs": [
        {
          "output_type": "stream",
          "name": "stdout",
          "text": [
            "Batch 1 saved to /content/drive/MyDrive/Colab Notebooks/GSIS Arrears Automation/computed_output_sheets_batch1.xlsx\n",
            "Batch 2 saved to /content/drive/MyDrive/Colab Notebooks/GSIS Arrears Automation/computed_output_sheets_batch2.xlsx\n",
            "Data inserted into new worksheets and saved.\n"
          ]
        }
      ]
    }
  ]
}
